{
 "cells": [
  {
   "cell_type": "code",
   "execution_count": 6,
   "id": "b1805a53",
   "metadata": {},
   "outputs": [],
   "source": [
    "import importlib.util\n",
    "import sys\n",
    "import numpy as np\n",
    "import pandas as pd\n",
    "from sklearn.datasets import load_iris\n",
    "\n",
    "spec = importlib.util.spec_from_file_location(\"main_1\", main_abs_path)\n",
    "main_1 = importlib.util.module_from_spec(spec)\n",
    "sys.modules[\"main_1\"] = main_1\n",
    "spec.loader.exec_module(main_1)\n",
    "\n",
    "LinearRegression = main_1.LinearRegression\n",
    "MeanSquaredError = main_1.MeanSquaredError\n",
    "Validator = main_1.Validator"
   ]
  },
  {
   "cell_type": "code",
   "execution_count": null,
   "id": "70d49f8a",
   "metadata": {},
   "outputs": [],
   "source": []
  }
 ],
 "metadata": {
  "kernelspec": {
   "display_name": "main-venv",
   "language": "python",
   "name": "python3"
  },
  "language_info": {
   "codemirror_mode": {
    "name": "ipython",
    "version": 3
   },
   "file_extension": ".py",
   "mimetype": "text/x-python",
   "name": "python",
   "nbconvert_exporter": "python",
   "pygments_lexer": "ipython3",
   "version": "3.13.3"
  }
 },
 "nbformat": 4,
 "nbformat_minor": 5
}
